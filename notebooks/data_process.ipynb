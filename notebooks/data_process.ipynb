{
 "cells": [
  {
   "cell_type": "markdown",
   "metadata": {},
   "source": [
    "## Data process"
   ]
  },
  {
   "cell_type": "markdown",
   "metadata": {},
   "source": [
    "removing imges with either resolutions smaller then 1024 that cannot be cropped into a 1024 * 1024 size "
   ]
  },
  {
   "cell_type": "code",
   "execution_count": null,
   "metadata": {},
   "outputs": [],
   "source": [
    "import os\n",
    "from PIL import Image\n",
    "\n",
    "def delete_images_with_small_dimension(folder_path, min_dimension=1024):\n",
    "    # Iterate over files in the folder\n",
    "    for filename in os.listdir(folder_path):\n",
    "        file_path = os.path.join(folder_path, filename)\n",
    "\n",
    "        # Check if the file is an image\n",
    "        if os.path.isfile(file_path) and any(filename.endswith(ext) for ext in ['.jpg', '.jpeg', '.png', '.gif']):\n",
    "            try:\n",
    "                # Open the image\n",
    "                with Image.open(file_path) as img:\n",
    "                    width, height = img.size\n",
    "\n",
    "                    # Check if either dimension is smaller than the threshold\n",
    "                    if width < min_dimension or height < min_dimension:\n",
    "                        # Delete the image\n",
    "                        os.remove(file_path)\n",
    "                        print(f\"Deleted: {filename}\")\n",
    "            except Exception as e:\n",
    "                print(f\"Error processing {filename}: {e}\")\n",
    "\n",
    "# Example usage:\n",
    "folder_path1 = r'C:\\Users\\dell\\Desktop\\ESRGAN\\data\\DIV2K_train_HR'\n",
    "folder_path2 = r'C:\\Users\\dell\\Desktop\\ESRGAN\\data\\DIV2K_valid_HR'\n",
    "delete_images_with_small_dimension(folder_path1)\n",
    "delete_images_with_small_dimension(folder_path2)"
   ]
  }
 ],
 "metadata": {
  "language_info": {
   "name": "python"
  }
 },
 "nbformat": 4,
 "nbformat_minor": 2
}
